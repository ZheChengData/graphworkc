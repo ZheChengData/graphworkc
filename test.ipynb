{
 "cells": [
  {
   "cell_type": "code",
   "execution_count": 1,
   "id": "629a93f3-bf59-44e8-8b7a-2cdde5e40b57",
   "metadata": {
    "editable": true,
    "slideshow": {
     "slide_type": ""
    },
    "tags": []
   },
   "outputs": [],
   "source": [
    "import graphworkc as gw\n",
    "g = gw.CGraph()"
   ]
  },
  {
   "cell_type": "code",
   "execution_count": 3,
   "id": "0b854d06-964f-4703-8560-0ab2faf087e0",
   "metadata": {
    "editable": true,
    "slideshow": {
     "slide_type": ""
    },
    "tags": []
   },
   "outputs": [],
   "source": [
    "import graphworkc as gw\n",
    "g = gw.CGraph()\n",
    "edge_list = [(1, 2, {'l': 1.23}), (2, 1, {'l': 1.23}), \n",
    "             (8, 1, {'l': 3.13}), (1, 8, {'l': 3.13}), \n",
    "             (4, 1, {'l': 1.66}), (1, 4, {'l': 1.66}),\n",
    "             (8, 2, {'l': 2.77}), (2, 8, {'l': 2.77}),\n",
    "             (2, 5, {'l': 2.79}), (5, 2, {'l': 2.79}),\n",
    "             (2, 3, {'l': 2.01}), (3, 2, {'l': 2.01}),\n",
    "             (8, 9, {'l': 2.66}), (9, 8, {'l': 2.66}),\n",
    "             (3, 9, {'l': 2.56}), (9, 3, {'l': 2.56}),\n",
    "             (7, 9, {'l': 2.79}), (9, 7, {'l': 2.79}), \n",
    "             (7, 3, {'l': 0.99}), (3, 7, {'l': 0.99}),\n",
    "             (7, 6, {'l': 1.29}), (6, 7, {'l': 1.29}),\n",
    "             (5, 6, {'l': 0.89}), (6, 5, {'l': 0.89}),\n",
    "             (4, 5, {'l': 0.79}), (5, 4, {'l': 0.79})]\n",
    "g.add_edges(edge_list)"
   ]
  },
  {
   "cell_type": "code",
   "execution_count": 4,
   "id": "00cbce39-783e-476e-aadb-d49bc6bddecf",
   "metadata": {
    "editable": true,
    "slideshow": {
     "slide_type": ""
    },
    "tags": []
   },
   "outputs": [
    {
     "name": "stdout",
     "output_type": "stream",
     "text": [
      "4.23\n"
     ]
    }
   ],
   "source": [
    "res = g.shortest_path_cost(1, 7, weight_name=\"l\")\n",
    "print(res)"
   ]
  },
  {
   "cell_type": "code",
   "execution_count": 5,
   "id": "93637426-9eaa-45d7-9566-68112425171f",
   "metadata": {},
   "outputs": [
    {
     "name": "stdout",
     "output_type": "stream",
     "text": [
      "[1, 2, 3, 7]\n"
     ]
    }
   ],
   "source": [
    "res = g.shortest_path_path(1, 7, weight_name=\"l\")\n",
    "print(res)"
   ]
  },
  {
   "cell_type": "code",
   "execution_count": 6,
   "id": "1402b161-a373-4cab-92d8-b483347f6e18",
   "metadata": {},
   "outputs": [
    {
     "name": "stdout",
     "output_type": "stream",
     "text": [
      "(4.23, [1, 2, 3, 7])\n"
     ]
    }
   ],
   "source": [
    "res = g.shortest_path_all(1, 7, weight_name=\"l\")\n",
    "print(res)"
   ]
  },
  {
   "cell_type": "code",
   "execution_count": null,
   "id": "d1441219-6305-4d69-b107-6a9822e6291d",
   "metadata": {},
   "outputs": [],
   "source": []
  },
  {
   "cell_type": "code",
   "execution_count": null,
   "id": "e4402eb8-1851-4808-a3f1-17c945fd38e4",
   "metadata": {},
   "outputs": [],
   "source": []
  }
 ],
 "metadata": {
  "kernelspec": {
   "display_name": "Python 3 (ipykernel)",
   "language": "python",
   "name": "python3"
  },
  "language_info": {
   "codemirror_mode": {
    "name": "ipython",
    "version": 3
   },
   "file_extension": ".py",
   "mimetype": "text/x-python",
   "name": "python",
   "nbconvert_exporter": "python",
   "pygments_lexer": "ipython3",
   "version": "3.11.0"
  }
 },
 "nbformat": 4,
 "nbformat_minor": 5
}
